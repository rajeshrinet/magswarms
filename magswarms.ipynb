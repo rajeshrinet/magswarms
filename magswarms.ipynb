{
 "cells": [
  {
   "cell_type": "code",
   "execution_count": 1,
   "id": "50ad1e05",
   "metadata": {},
   "outputs": [],
   "source": [
    "import pystokes \n",
    "import numpy as np, matplotlib.pyplot as plt\n",
    "\n",
    "from IPython.display import Video\n",
    "import os\n",
    "from matplotlib.animation import FuncAnimation\n",
    "from mpl_toolkits.mplot3d import Axes3D"
   ]
  },
  {
   "cell_type": "code",
   "execution_count": 19,
   "id": "2442d773-1dde-4b02-a00f-19213bbbbbc4",
   "metadata": {},
   "outputs": [],
   "source": [
    "# particle radius, self-propulsion speed, number and fluid viscosity\n",
    "b, vs, N, eta = 1.0,2, 8, 0.1\n",
    "\n",
    "\n",
    "#initialise\n",
    "r = pystokes.utils.initialCondition(N)  # initial random distribution of positions\n",
    "p = np.zeros(3*N); \n",
    "p[2*N:3*N] = -0.4   # initial orientation of the colloids"
   ]
  },
  {
   "cell_type": "code",
   "execution_count": 20,
   "id": "1eb664d0-fd37-4f06-a429-4aad9204256f",
   "metadata": {},
   "outputs": [],
   "source": [
    "\n",
    "def rhs(rp):\n",
    "    \"\"\"\n",
    "    right hand side of the rigid body motion equation\n",
    "    rp: is the array of position and orientations of the colloids\n",
    "    returns the \\dot{rp} so that rp can be updated using an integrator\n",
    "    \"\"\"\n",
    "    # assign fresh values at each time step\n",
    "    r = rp[0:3*N];   p = rp[3*N:6*N]\n",
    "    norm_p = np.dot(p,p)\n",
    "    p = p/np.sqrt(norm_p)\n",
    "    F, v, o,T = np.zeros(3*N), np.zeros(3*N), np.zeros(3*N),np.zeros(3*N)\n",
    "    \n",
    "    force.lennardJonesWall(F, r, lje=0.01, ljr=5, wlje=1.2, wljr=3.4)\n",
    "    torque.magnetic(T,p,m0=1,Bx=0, By=1, Bz=-0)\n",
    "    #torque.bottomHeaviness(T,p,bh=1.0)\n",
    "    rbm.mobilityTT(v, r, F)  \n",
    "    rbm.mobilityRR(o,r,T)\n",
    "    #rbm.mobilityTR(v,r,T)\n",
    "    #rbm.mobilityRT(o,r,F)\n",
    "    \n",
    "    l2 = pystokes.utils.irreducibleTensors(2, p,Y0=1)\n",
    "    l3 = pystokes.utils.irreducibleTensors(3, p)\n",
    "    v3t = vs*p;\n",
    "    rbm.propulsionT2s(v,r,l2)\n",
    "    #rbm.propulsionR2s(o,r,l2)\n",
    "    #rbm.propulsionR4a(o, r, l3)\n",
    "    rbm.propulsionT3t(v, r, v);\n",
    "    v = v+v3t;\n",
    "    return np.concatenate( (v,o) )\n",
    "\n",
    "rbm   = pystokes.wallBounded.Rbm(radius=b, particles=N, viscosity=eta)\n",
    "force = pystokes.forceFields.Forces(particles=N)\n",
    "torque = pystokes.forceFields.Torques(particles=N)"
   ]
  },
  {
   "cell_type": "markdown",
   "id": "0febe3ef-2cc2-4aa0-a461-64eb329025b5",
   "metadata": {},
   "source": [
    "* The torque on microparticle in an external magnetic field ${\\bf B}$  is ${\\bf T} = {\\bf m\\times B}$. \n",
    "* We also note        We assume $m = m_0 \\bf p$\n",
    "\n",
    "* We choose p to be along -ve z-direction initially and apply a magnetic field along y direction."
   ]
  },
  {
   "cell_type": "code",
   "execution_count": 21,
   "id": "5cf1fd04-4b79-4125-8789-4382c1f87135",
   "metadata": {},
   "outputs": [
    {
     "data": {
      "text/plain": [
       "array([0.4, 0.4, 0.4, 0.4, 0.4, 0.4, 0.4, 0.4, 0. , 0. , 0. , 0. , 0. ,\n",
       "       0. , 0. , 0. , 0. , 0. , 0. , 0. , 0. , 0. , 0. , 0. ])"
      ]
     },
     "execution_count": 21,
     "metadata": {},
     "output_type": "execute_result"
    }
   ],
   "source": [
    "T= np.zeros(3*N)\n",
    "torque.magnetic(T,p,m0=1,Bx=0, By=1, Bz=-0)\n",
    "T"
   ]
  },
  {
   "cell_type": "code",
   "execution_count": 22,
   "id": "d48bbf53-65f9-45e5-8fad-2be887817cd3",
   "metadata": {},
   "outputs": [],
   "source": [
    "# simulate the resulting system\n",
    "Tf, Nts = 120, 100\n",
    "pystokes.utils.simulate(np.concatenate((r,p)), Tf,Nts,rhs, filename='swarms')\n",
    "\n",
    "# plot the data at specific time instants\n",
    "#pystokes.utils.plotConfigs(t=[1,40,60,80,100], ms=80, tau=1, filename='swarms')# -*- coding: utf-8 -*-\n",
    "from scipy.io import loadmat\n",
    "result=loadmat('swarms')\n",
    "traj\t  = result['X']\n",
    "\n",
    "from statistics import mean\n",
    "py=traj[0:Nts,4*N:5*N]\n",
    "pymean=mean(py[Nts-1])\n",
    "px=traj[0:Nts,3*N:4*N]\n",
    "pxmean=mean(px[Nts-1])\n",
    "pz=traj[0:Nts,5*N:6*N]\n",
    "pzmean=mean(pz[Nts-1])\n",
    "alpha=np.arctan(pymean/pzmean)*180/np.pi"
   ]
  },
  {
   "cell_type": "code",
   "execution_count": null,
   "id": "c477c31a-7cfd-479c-8b6a-4d48e8e9f82f",
   "metadata": {},
   "outputs": [],
   "source": []
  },
  {
   "cell_type": "markdown",
   "id": "95c6efba-09af-4800-8306-8eea5f5ba3d2",
   "metadata": {},
   "source": [
    "## Plot data and make a movie"
   ]
  },
  {
   "cell_type": "code",
   "execution_count": 23,
   "id": "f7d8078a-7a2a-40d2-8807-0a3d32370fb5",
   "metadata": {},
   "outputs": [],
   "source": [
    "for i in range(Nts):\n",
    "    dx=traj[i+1,0:N]-traj[i,0:N]\n",
    "    dy=traj[i+1,N:2*N]-traj[i,N:2*N]\n",
    "    dz=traj[i+1,2*N:3*N]-traj[i,2*N:3*N]\n",
    "    speed=10*np.sqrt(dx**2+dy**2+dz**2)\n",
    "    #fig,ax=plt.subplots()\n",
    "    #plt.scatter(traj[i,0:N],traj[i,N:2*N],s=40,c=speed, cmap='inferno')\n",
    "    #plt.xlim(-50,50)\n",
    "    #plt.ylim(-50,50)\n",
    "    from mpl_toolkits.mplot3d import Axes3D\n",
    "\n",
    "    fig = plt.figure(); ax = fig.add_subplot(111, projection='3d')\n",
    "\n",
    "    ax.quiver(traj[i,0:N], traj[i,N:2*N], traj[i,2*N:3*N], traj[i,3*N:4*N], traj[i,4*N:5*N], traj[i,5*N:6*N],length=6, arrow_length_ratio=.65)\n",
    "    ax.set_xlim(-20,20)\n",
    "    ax.set_ylim(-20,20)\n",
    "    ax.set_zlim(0,10)\n",
    "    ax.set_xlabel('x/b')\n",
    "    ax.set_ylabel('y/b')\n",
    "    ax.set_zlabel('z/b')\n",
    "\n",
    "    plt.savefig('data//image-%05d_.png'%(i)); plt.clf();  plt.close()\n",
    "    fig.clear()\n",
    "    plt.close(fig)"
   ]
  },
  {
   "cell_type": "code",
   "execution_count": 24,
   "id": "80bcfd76-34f1-4b21-ab0b-786b5859800c",
   "metadata": {},
   "outputs": [],
   "source": [
    "%%capture\n",
    "!ffmpeg  -y -framerate 10 -pattern_type glob -i \"data//image-*.png\" output.mp4  "
   ]
  },
  {
   "cell_type": "code",
   "execution_count": 25,
   "id": "511392d3-3963-4d3f-80ce-0db829fb880f",
   "metadata": {},
   "outputs": [
    {
     "data": {
      "text/html": [
       "<video src=\"output.mp4\" controls  >\n",
       "      Your browser does not support the <code>video</code> element.\n",
       "    </video>"
      ],
      "text/plain": [
       "<IPython.core.display.Video object>"
      ]
     },
     "execution_count": 25,
     "metadata": {},
     "output_type": "execute_result"
    }
   ],
   "source": [
    "Video('output.mp4')   "
   ]
  },
  {
   "cell_type": "code",
   "execution_count": null,
   "id": "eec90ae6-5782-43e8-acc8-5e2184ac5324",
   "metadata": {},
   "outputs": [],
   "source": []
  }
 ],
 "metadata": {
  "kernelspec": {
   "display_name": "Python 3 (ipykernel)",
   "language": "python",
   "name": "python3"
  },
  "language_info": {
   "codemirror_mode": {
    "name": "ipython",
    "version": 3
   },
   "file_extension": ".py",
   "mimetype": "text/x-python",
   "name": "python",
   "nbconvert_exporter": "python",
   "pygments_lexer": "ipython3",
   "version": "3.10.9"
  }
 },
 "nbformat": 4,
 "nbformat_minor": 5
}
